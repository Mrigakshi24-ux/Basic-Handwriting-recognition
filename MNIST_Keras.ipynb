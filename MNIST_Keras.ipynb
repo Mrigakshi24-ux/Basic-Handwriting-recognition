{
  "nbformat": 4,
  "nbformat_minor": 0,
  "metadata": {
    "colab": {
      "name": "MNIST_Keras.ipynb",
      "provenance": [],
      "authorship_tag": "ABX9TyNqsrrFWzSGKV//xlPShzeB"
    },
    "kernelspec": {
      "name": "python3",
      "display_name": "Python 3"
    },
    "language_info": {
      "name": "python"
    },
    "accelerator": "GPU"
  },
  "cells": [
    {
      "cell_type": "code",
      "metadata": {
        "id": "G6jRJEUuXzFx"
      },
      "source": [
        "#Importing the libraries\n",
        "import pandas as pd\n",
        "import numpy as np\n",
        "import keras.datasets as dt\n",
        "import matplotlib.pyplot as plt\n",
        "from keras.utils import to_categorical\n",
        "from keras.layers import Dense, Dropout, Conv2D, MaxPool2D, Flatten\n",
        "from keras import Sequential\n",
        "from keras.optimizers import SGD"
      ],
      "execution_count": 1,
      "outputs": []
    },
    {
      "cell_type": "code",
      "metadata": {
        "id": "j2Ok88zJX-64",
        "colab": {
          "base_uri": "https://localhost:8080/"
        },
        "outputId": "057a2876-e189-43ab-c641-3cc8007fc506"
      },
      "source": [
        "# loading the data\n",
        "(xtrain, ytrain), (xtest, ytest) = dt.mnist.load_data('./train')"
      ],
      "execution_count": 2,
      "outputs": [
        {
          "output_type": "stream",
          "text": [
            "Downloading data from https://storage.googleapis.com/tensorflow/tf-keras-datasets/mnist.npz\n",
            "11493376/11490434 [==============================] - 0s 0us/step\n"
          ],
          "name": "stdout"
        }
      ]
    },
    {
      "cell_type": "code",
      "metadata": {
        "colab": {
          "base_uri": "https://localhost:8080/"
        },
        "id": "62Je0wE7YGMD",
        "outputId": "f4527cad-3647-4a6a-c4fe-07675514ad39"
      },
      "source": [
        "xtrain.shape, xtest.shape   # we have 28*28 pixel images"
      ],
      "execution_count": 3,
      "outputs": [
        {
          "output_type": "execute_result",
          "data": {
            "text/plain": [
              "((60000, 28, 28), (10000, 28, 28))"
            ]
          },
          "metadata": {
            "tags": []
          },
          "execution_count": 3
        }
      ]
    },
    {
      "cell_type": "code",
      "metadata": {
        "colab": {
          "base_uri": "https://localhost:8080/",
          "height": 469
        },
        "id": "g13ngQTqYoLh",
        "outputId": "494d0d0f-79ac-4e11-cceb-6010cf890a02"
      },
      "source": [
        "# plotting first few images\n",
        "plt.figure(figsize=(8, 8))          #defining the figure size\n",
        "for i in range(9):\n",
        "  plt.subplot(3,3,i+1)              # subplot with 3 rows and 3 columns\n",
        "  plt.imshow(xtrain[i],cmap = plt.get_cmap('gray'))\n",
        "  plt.xticks([])                    # no markings present on x or y axis\n",
        "  plt.yticks([])"
      ],
      "execution_count": 4,
      "outputs": [
        {
          "output_type": "display_data",
          "data": {
            "image/png": "[encoded data removed]",
            "text/plain": [
              "<Figure size 576x576 with 9 Axes>"
            ]
          },
          "metadata": {
            "tags": []
          }
        }
      ]
    },
    {
      "cell_type": "code",
      "metadata": {
        "id": "jEMD5kqCZSNR"
      },
      "source": [
        "# normalize the input\n",
        "xtrain = xtrain/255\n",
        "xtest = xtest/255\n",
        "\n",
        "# reshaping the data to include that it has one channel (gray images)\n",
        "xtrain = xtrain.reshape((xtrain.shape[0], 28, 28, 1))\n",
        "xtest = xtest.reshape((xtest.shape[0], 28, 28, 1))\n",
        "\n",
        "# since we have 10 outputs, we need to one hot encode our output accordingly\n",
        "ytrain = to_categorical(ytrain)\n",
        "ytest = to_categorical(ytest)"
      ],
      "execution_count": 5,
      "outputs": []
    },
    {
      "cell_type": "code",
      "metadata": {
        "id": "ps80GzsAfNoL"
      },
      "source": [
        "# calculate the output dimensions using: \n",
        "# dim = (height-filter+2*padding)/strides+1\n",
        "\n",
        "model = Sequential()\n",
        "model.add(Conv2D(64, kernel_size =(3,3), activation = 'relu', input_shape = (28,28,1)))\n",
        "# the input shape will be 26*26\n",
        "\n",
        "model.add(MaxPool2D(2,2))\n",
        "# the input shape will be 13*13\n",
        "\n",
        "model.add(Conv2D(128, kernel_size = (3,3), activation = 'relu'))\n",
        "# the input shape will be 11*11\n",
        "\n",
        "model.add(MaxPool2D(2,2))\n",
        "# the input shape will be 5*5\n",
        "\n",
        "model.add(Dropout(0.2))\n",
        "\n",
        "model.add(Flatten())\n",
        "# the layer is converted to 1D for dense layer \n",
        "\n",
        "model.add(Dense(100, activation ='relu'))\n",
        "model.add(Dense(10, activation = 'softmax'))  # 10 variables because 0-9\n",
        "\n",
        "optim = SGD(lr = 0.01, momentum = 0.9)\n",
        "\n",
        "model.compile(optimizer = optim, loss = 'categorical_crossentropy', metrics = ['accuracy'])"
      ],
      "execution_count": 6,
      "outputs": []
    },
    {
      "cell_type": "code",
      "metadata": {
        "colab": {
          "base_uri": "https://localhost:8080/"
        },
        "id": "halQoHxx1Mfv",
        "outputId": "6dcd7175-8679-4097-eeb7-c90a2da7b894"
      },
      "source": [
        "model.summary()"
      ],
      "execution_count": 7,
      "outputs": [
        {
          "output_type": "stream",
          "text": [
            "Model: \"sequential\"\n",
            "_________________________________________________________________\n",
            "Layer (type)                 Output Shape              Param #   \n",
            "=================================================================\n",
            "conv2d (Conv2D)              (None, 26, 26, 64)        640       \n",
            "_________________________________________________________________\n",
            "max_pooling2d (MaxPooling2D) (None, 13, 13, 64)        0         \n",
            "_________________________________________________________________\n",
            "conv2d_1 (Conv2D)            (None, 11, 11, 128)       73856     \n",
            "_________________________________________________________________\n",
            "max_pooling2d_1 (MaxPooling2 (None, 5, 5, 128)         0         \n",
            "_________________________________________________________________\n",
            "dropout (Dropout)            (None, 5, 5, 128)         0         \n",
            "_________________________________________________________________\n",
            "flatten (Flatten)            (None, 3200)              0         \n",
            "_________________________________________________________________\n",
            "dense (Dense)                (None, 100)               320100    \n",
            "_________________________________________________________________\n",
            "dense_1 (Dense)              (None, 10)                1010      \n",
            "=================================================================\n",
            "Total params: 395,606\n",
            "Trainable params: 395,606\n",
            "Non-trainable params: 0\n",
            "_________________________________________________________________\n"
          ],
          "name": "stdout"
        }
      ]
    },
    {
      "cell_type": "code",
      "metadata": {
        "colab": {
          "base_uri": "https://localhost:8080/"
        },
        "id": "oRTowGtLXL_g",
        "outputId": "5dca83ad-b0da-485f-901a-ba81c06b14a8"
      },
      "source": [
        "# define hyperparameters\n",
        "batch_size = 128\n",
        "epochs = 25\n",
        "model.fit(xtrain, ytrain, batch_size = batch_size, verbose = 1, epochs = epochs)"
      ],
      "execution_count": 8,
      "outputs": [
        {
          "output_type": "stream",
          "text": [
            "Epoch 1/25\n",
            "469/469 [==============================] - 36s 7ms/step - loss: 0.8803 - accuracy: 0.7246\n",
            "Epoch 2/25\n",
            "469/469 [==============================] - 3s 7ms/step - loss: 0.1076 - accuracy: 0.9674\n",
            "Epoch 3/25\n",
            "469/469 [==============================] - 3s 7ms/step - loss: 0.0773 - accuracy: 0.9760\n",
            "Epoch 4/25\n",
            "469/469 [==============================] - 3s 7ms/step - loss: 0.0606 - accuracy: 0.9810\n",
            "Epoch 5/25\n",
            "469/469 [==============================] - 3s 7ms/step - loss: 0.0490 - accuracy: 0.9849\n",
            "Epoch 6/25\n",
            "469/469 [==============================] - 3s 7ms/step - loss: 0.0404 - accuracy: 0.9875\n",
            "Epoch 7/25\n",
            "469/469 [==============================] - 3s 7ms/step - loss: 0.0379 - accuracy: 0.9880\n",
            "Epoch 8/25\n",
            "469/469 [==============================] - 3s 7ms/step - loss: 0.0325 - accuracy: 0.9888\n",
            "Epoch 9/25\n",
            "469/469 [==============================] - 3s 7ms/step - loss: 0.0318 - accuracy: 0.9902\n",
            "Epoch 10/25\n",
            "469/469 [==============================] - 3s 7ms/step - loss: 0.0266 - accuracy: 0.9912\n",
            "Epoch 11/25\n",
            "469/469 [==============================] - 3s 7ms/step - loss: 0.0272 - accuracy: 0.9912\n",
            "Epoch 12/25\n",
            "469/469 [==============================] - 3s 7ms/step - loss: 0.0228 - accuracy: 0.9929\n",
            "Epoch 13/25\n",
            "469/469 [==============================] - 3s 7ms/step - loss: 0.0223 - accuracy: 0.9933\n",
            "Epoch 14/25\n",
            "469/469 [==============================] - 3s 7ms/step - loss: 0.0187 - accuracy: 0.9939\n",
            "Epoch 15/25\n",
            "469/469 [==============================] - 3s 7ms/step - loss: 0.0168 - accuracy: 0.9949\n",
            "Epoch 16/25\n",
            "469/469 [==============================] - 3s 7ms/step - loss: 0.0179 - accuracy: 0.9945\n",
            "Epoch 17/25\n",
            "469/469 [==============================] - 3s 7ms/step - loss: 0.0144 - accuracy: 0.9956\n",
            "Epoch 18/25\n",
            "469/469 [==============================] - 3s 7ms/step - loss: 0.0142 - accuracy: 0.9954\n",
            "Epoch 19/25\n",
            "469/469 [==============================] - 3s 7ms/step - loss: 0.0135 - accuracy: 0.9960\n",
            "Epoch 20/25\n",
            "469/469 [==============================] - 3s 7ms/step - loss: 0.0114 - accuracy: 0.9964\n",
            "Epoch 21/25\n",
            "469/469 [==============================] - 3s 7ms/step - loss: 0.0102 - accuracy: 0.9967\n",
            "Epoch 22/25\n",
            "469/469 [==============================] - 3s 7ms/step - loss: 0.0102 - accuracy: 0.9969\n",
            "Epoch 23/25\n",
            "469/469 [==============================] - 3s 7ms/step - loss: 0.0105 - accuracy: 0.9963\n",
            "Epoch 24/25\n",
            "469/469 [==============================] - 3s 7ms/step - loss: 0.0097 - accuracy: 0.9967\n",
            "Epoch 25/25\n",
            "469/469 [==============================] - 3s 7ms/step - loss: 0.0089 - accuracy: 0.9970\n"
          ],
          "name": "stdout"
        },
        {
          "output_type": "execute_result",
          "data": {
            "text/plain": [
              "<tensorflow.python.keras.callbacks.History at 0x7fd0d0329750>"
            ]
          },
          "metadata": {
            "tags": []
          },
          "execution_count": 8
        }
      ]
    },
    {
      "cell_type": "code",
      "metadata": {
        "colab": {
          "base_uri": "https://localhost:8080/"
        },
        "id": "aNlaRdqBXkFL",
        "outputId": "07bd3e3d-22c8-4407-b5cf-068e1bdaa36f"
      },
      "source": [
        "score = model.evaluate(xtest, ytest, verbose = 1)\n",
        "print(\"Test loss:\", score[0])\n",
        "print(\"Test accuracy:\", score[1])"
      ],
      "execution_count": 9,
      "outputs": [
        {
          "output_type": "stream",
          "text": [
            "313/313 [==============================] - 1s 2ms/step - loss: 0.0285 - accuracy: 0.9918\n",
            "Test loss: 0.02852083370089531\n",
            "Test accuracy: 0.9918000102043152\n"
          ],
          "name": "stdout"
        }
      ]
    }
  ]
}